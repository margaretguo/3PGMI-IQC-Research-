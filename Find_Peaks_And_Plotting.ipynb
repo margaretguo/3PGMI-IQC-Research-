{
 "cells": [
  {
   "cell_type": "markdown",
   "metadata": {},
   "source": [
    "# Find_peaks() Plotting Code from 3 Grating Movement & find_peaks() Approach in Report\n",
    "\n",
    "This method was not effective for finding local peaks in our interference fringe images since the signal was too noisy. This code is mainly for reference purposes. "
   ]
  },
  {
   "cell_type": "code",
   "execution_count": null,
   "metadata": {},
   "outputs": [],
   "source": [
    "import matplotlib.pyplot as plt\n",
    "import csv\n",
    "import json\n",
    "from scipy.optimize import curve_fit\n",
    "import re\n",
    "import numpy as np\n",
    "import pandas as pd\n",
    "from numpy import loadtxt\n",
    "from array import array\n",
    "import sys\n",
    "from scipy.signal import find_peaks\n",
    "\n",
    "np.set_printoptions(threshold=sys.maxsize)"
   ]
  },
  {
   "cell_type": "markdown",
   "metadata": {},
   "source": [
    "### Helper Functions"
   ]
  },
  {
   "cell_type": "code",
   "execution_count": null,
   "metadata": {},
   "outputs": [],
   "source": [
    "#define the interference fringe pattern fitting function\n",
    "def cosine_function(x, a, b, phi, p):\n",
    "    return a * np.cos(p*x - phi) + b\n",
    "\n",
    "#prints the full function so it can be displayed as a label on our plots\n",
    "def print_function(popt):\n",
    "    a = round(popt[0], 2)\n",
    "    b = round(popt[1], 2)\n",
    "    phi = round(popt[2], 2)\n",
    "    p = round(popt[3], 2)\n",
    "    if phi > 0:\n",
    "        phi = \" +\" + str(phi)\n",
    "    complete_function = str(a) + \"cos(\" + str(p) + \"x \" + str(phi) + \")\" + \" + \" + str(b)\n",
    "    text = \"The function is: \" + complete_function\n",
    "    return text\n",
    "\n",
    "#takes in an image in textfile form and returns a numpy array of pixel values for any row in that image for fitting\n",
    "def textfile_to_array(textfile_name, row):\n",
    "   raw_array = np.loadtxt(textfile_name, converters= float, dtype = \"int\")\n",
    "   raw_array = raw_array[row]\n",
    "   return raw_array\n",
    "\n",
    "#takes in image in textfile form and returns it as a numpy array, helpful for the laser power vs pixel value fit portion \n",
    "def textfile_to_array_no_row(textfile_name):\n",
    "    raw_array = np.loadtxt(textfile_name)\n",
    "    return raw_array"
   ]
  },
  {
   "cell_type": "markdown",
   "metadata": {},
   "source": [
    "### Plot Pixels in one row of an image, Run Find_peaks(), Plot Peaks\n",
    "\n",
    "Modifying the parameters within the find_peaks() function changes the peak finding ability significantly. See the scipy documentation for find_peaks() for more details. "
   ]
  },
  {
   "cell_type": "code",
   "execution_count": null,
   "metadata": {},
   "outputs": [],
   "source": [
    "textfile_name = '18.txt'\n",
    "raw_array = textfile_to_array(textfile_name, 340)\n",
    "\n",
    "##obtain our x and y values for the pixels \n",
    "xdatapixels = np.array(range(1, 1281))\n",
    "ydatapixels = raw_array\n",
    "\n",
    "##returns an array of peak indices \n",
    "raw_peaks,_ = find_peaks(raw_array, prominence = 70, distance = 5, height = 65) #modify these parameters\n",
    "peaks_indices = raw_peaks.tolist() \n",
    "\n",
    "peaks_list = []\n",
    "blank_index = range(len(peaks_indices))\n",
    "\n",
    "##calculate our list of peak pixel darknesses, this is a pretty bad way to do it \n",
    "for i in blank_index: \n",
    "    index_value = peaks_indices[i-1] #the value of each term in peak_incides is the index of what we want in the raw array\n",
    "    peak_point = raw_array[index_value]\n",
    "    peaks_list.append(str(peak_point))\n",
    "peaks_list = list(map(int, peaks_list))\n",
    "\n",
    "##obtain our x and y values for the peaks\n",
    "ydatapeaks = np.array(peaks_list)\n",
    "xdatapeaks = raw_peaks\n",
    "\n",
    "#get plot name\n",
    "plot_name = textfile_name.split(\".\")\n",
    "plot_name = plot_name[0]\n",
    "\n",
    "#plot the data so we can make sure it looks somewhat right\n",
    "plt.plot(xdatapixels, ydatapixels, \"bo\", label = \"pixels\")\n",
    "plt.plot(xdatapeaks, ydatapeaks, \"c^\", label= \"peaks\")\n",
    "plt.title(plot_name)\n",
    "plt.xlabel(\"pixel number\")\n",
    "plt.ylabel(\"pixel darkness\")\n",
    "\n",
    "plt.legend()\n",
    "plt.show()\n",
    "plt.savefig(plot_name + \"pointsandpeaks.png\")\n",
    "plt.clf()"
   ]
  }
 ],
 "metadata": {
  "language_info": {
   "name": "python"
  },
  "orig_nbformat": 4
 },
 "nbformat": 4,
 "nbformat_minor": 2
}
