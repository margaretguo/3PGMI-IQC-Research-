{
 "cells": [
  {
   "cell_type": "markdown",
   "metadata": {},
   "source": [
    "## Image Name Generation and Motor Units/Micrometer Conversion Functions"
   ]
  },
  {
   "cell_type": "markdown",
   "metadata": {},
   "source": [
    "### These are some potentially helpful functions that can help with the use of CameraMotorControl.py and LaserMotorControl.py"
   ]
  },
  {
   "cell_type": "code",
   "execution_count": 5,
   "metadata": {},
   "outputs": [],
   "source": [
    "import numpy as np"
   ]
  },
  {
   "cell_type": "code",
   "execution_count": 7,
   "metadata": {},
   "outputs": [
    {
     "data": {
      "text/plain": [
       "(['2', '3', '4', '5', '6', '7'],\n",
       " ['2.txt', '3.txt', '4.txt', '5.txt', '6.txt', '7.txt'])"
      ]
     },
     "execution_count": 7,
     "metadata": {},
     "output_type": "execute_result"
    }
   ],
   "source": [
    "def generate_file_names(number_of_images, interval, starting_value): \n",
    "#This creates image names, especially useful for phase stepping. \n",
    "    index = np.array(range(1, number_of_images + 1))\n",
    "    name_list = [] #for CameraMotorControl & LaserMotorControl use\n",
    "    text_file_name_list = [] #for plots and fitting \n",
    "    value = starting_value - interval\n",
    "\n",
    "    for i in index:\n",
    "        value = value + interval\n",
    "        name_list.append(str(value)) #can add more descriptors like \"g1\" here\n",
    "        text_file_name_list.append(str(value) + \".txt\")\n",
    "    return name_list, text_file_name_list\n",
    "\n",
    "generate_file_names(number_of_images, interval, starting_value)"
   ]
  },
  {
   "cell_type": "code",
   "execution_count": 8,
   "metadata": {},
   "outputs": [
    {
     "name": "stdout",
     "output_type": "stream",
     "text": [
      "['1' '11' '21' '31' '41' '51' '61' '71' '81']\n"
     ]
    },
    {
     "data": {
      "text/plain": [
       "array(['1', '11', '21', '31', '41', '51', '61', '71', '81'], dtype='<U2')"
      ]
     },
     "execution_count": 8,
     "metadata": {},
     "output_type": "execute_result"
    }
   ],
   "source": [
    "def calculate_distances(numberofpics, start, interval):\n",
    "    '''This is a function I made to quickly calculate each position you need to move the grating at for phase stepping and return them as an array for use in motor control.'''\n",
    "    new_array = []\n",
    "    range = np.arange(0, numberofpics+1, 1)\n",
    "    for i in range:\n",
    "        start_string = str(start) \n",
    "        new_array.append(start_string)\n",
    "        start = interval + start \n",
    "    new_array = np.array(new_array)\n",
    "    print(new_array)\n",
    "    return new_array\n",
    "\n",
    "calculate_distances(numberofpics, start, interval)"
   ]
  },
  {
   "cell_type": "code",
   "execution_count": 9,
   "metadata": {},
   "outputs": [],
   "source": [
    "def motorunit_to_micron(value):\n",
    "    micron = value * 0.25\n",
    "    return micron\n",
    "\n",
    "\n",
    "def micron_to_motorunit(value):\n",
    "    motorunit = value * 4\n",
    "    return motorunit\n"
   ]
  }
 ],
 "metadata": {
  "kernelspec": {
   "display_name": "Python 3",
   "language": "python",
   "name": "python3"
  },
  "language_info": {
   "codemirror_mode": {
    "name": "ipython",
    "version": 3
   },
   "file_extension": ".py",
   "mimetype": "text/x-python",
   "name": "python",
   "nbconvert_exporter": "python",
   "pygments_lexer": "ipython3",
   "version": "3.10.11"
  },
  "orig_nbformat": 4
 },
 "nbformat": 4,
 "nbformat_minor": 2
}
